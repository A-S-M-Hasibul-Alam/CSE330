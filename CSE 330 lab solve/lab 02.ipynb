{
 "cells": [
  {
   "cell_type": "code",
   "execution_count": 1,
   "metadata": {},
   "outputs": [
    {
     "name": "stdout",
     "output_type": "stream",
     "text": [
      "Hello, World!\n"
     ]
    }
   ],
   "source": [
    "#problem 01\n",
    "print(\"Hello, World!\")"
   ]
  },
  {
   "cell_type": "code",
   "execution_count": 4,
   "metadata": {},
   "outputs": [
    {
     "name": "stdout",
     "output_type": "stream",
     "text": [
      "24\n",
      "Not weird\n"
     ]
    }
   ],
   "source": [
    "#problem 02\n",
    "number=int(input())\n",
    "if(number%2!=0):\n",
    "    print(\"Weird\")\n",
    "elif(number>=2 and number <=5):\n",
    "    print(\"Not weird\")\n",
    "elif(number>=6 and number <=20):\n",
    "    print(\"Weird\")\n",
    "else:\n",
    "    print(\"Not weird\")"
   ]
  },
  {
   "cell_type": "code",
   "execution_count": 8,
   "metadata": {},
   "outputs": [
    {
     "name": "stdout",
     "output_type": "stream",
     "text": [
      "5\n",
      "0\n",
      "1\n",
      "4\n",
      "9\n",
      "16\n"
     ]
    }
   ],
   "source": [
    "#problem 03\n",
    "import math\n",
    "y=int(input())\n",
    "for x in range(y):\n",
    "    print(x**2)"
   ]
  },
  {
   "cell_type": "code",
   "execution_count": 45,
   "metadata": {},
   "outputs": [
    {
     "data": {
      "text/plain": [
       "'ginortS1324'"
      ]
     },
     "execution_count": 45,
     "metadata": {},
     "output_type": "execute_result"
    }
   ],
   "source": [
    "#porblem 04\n",
    "st=\"Sorting1234\"\n",
    "str = split(st)\n",
    "upper = \"\"\n",
    "lower = \"\"\n",
    "even = \"\"\n",
    "odd = \"\"\n",
    "for x in str: \n",
    "    if x.isupper() == True:\n",
    "        upper += x \n",
    "    elif x.islower()== True:\n",
    "        lower+=x\n",
    "    elif x.isnumeric()==True:\n",
    "        if(int(x)%2==0):\n",
    "            even+=x\n",
    "        else:\n",
    "            odd+=x\n",
    "        \n",
    "final = \"\"\n",
    "str = sorted(lower)+sorted(upper)+sorted(odd)+sorted(even)\n",
    "#print(str)\n",
    "final.join(str)"
   ]
  },
  {
   "cell_type": "code",
   "execution_count": null,
   "metadata": {},
   "outputs": [
    {
     "name": "stdout",
     "output_type": "stream",
     "text": [
      "2\n"
     ]
    }
   ],
   "source": [
    "#problem 05\n",
    "from datetime import datetime\n",
    "from datetime import timedelta\n",
    "\n",
    "count=int(input())\n",
    "for x in range(count):\n",
    "    \n",
    "    dt_string1 = input()\n",
    "    dt_string2 = input()\n",
    "# Considering date is in dd/mm/yyyy format\n",
    "    dt_object1 = datetime.strptime(dt_string1, \"%a %d %b %Y %H:%M:%S %z\")\n",
    "#print(\"dt_object1 =\", dt_object1)\n",
    "# Considering date is in mm/dd/yyyy format\n",
    "    dt_object2 = datetime.strptime(dt_string2, \"%a %d %b %Y %H:%M:%S %z\")\n",
    "    print((dt_object1-dt_object2).seconds)\n",
    "\n"
   ]
  },
  {
   "cell_type": "code",
   "execution_count": 1,
   "metadata": {},
   "outputs": [
    {
     "name": "stdout",
     "output_type": "stream",
     "text": [
      "True\n"
     ]
    }
   ],
   "source": [
    "#problem 06\n",
    "def is_leap(year):\n",
    "    leap = False\n",
    "    if(year % 400 == 0):\n",
    "        leap = True\n",
    "    elif(year % 4 == 0 and year % 100 != 0):\n",
    "        leap = True\n",
    "    return leap\n",
    "print(is_leap(2016))"
   ]
  },
  {
   "cell_type": "code",
   "execution_count": 5,
   "metadata": {},
   "outputs": [
    {
     "name": "stdout",
     "output_type": "stream",
     "text": [
      "5\n",
      "1\n",
      "121\n",
      "12321\n",
      "1234321\n",
      "123454321\n"
     ]
    }
   ],
   "source": [
    "#problem 07\n",
    "\n",
    "for i in range(1,int(input())+1):\n",
    "    print(pow(((pow(10,i)-1)//9),2))"
   ]
  },
  {
   "cell_type": "code",
   "execution_count": null,
   "metadata": {},
   "outputs": [],
   "source": []
  }
 ],
 "metadata": {
  "kernelspec": {
   "display_name": "Python 3",
   "language": "python",
   "name": "python3"
  },
  "language_info": {
   "codemirror_mode": {
    "name": "ipython",
    "version": 3
   },
   "file_extension": ".py",
   "mimetype": "text/x-python",
   "name": "python",
   "nbconvert_exporter": "python",
   "pygments_lexer": "ipython3",
   "version": "3.7.3"
  }
 },
 "nbformat": 4,
 "nbformat_minor": 2
}
