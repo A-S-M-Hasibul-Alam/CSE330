{
  "nbformat": 4,
  "nbformat_minor": 0,
  "metadata": {
    "colab": {
      "name": "Assignment_6 (1).ipynb",
      "provenance": [],
      "collapsed_sections": []
    },
    "kernelspec": {
      "name": "python3",
      "display_name": "Python 3"
    }
  },
  "cells": [
    {
      "cell_type": "markdown",
      "metadata": {
        "id": "STVu2WqyBYDN",
        "colab_type": "text"
      },
      "source": [
        "# CSE 330 Numerical Analysis Lab \n",
        "\n",
        "### Lab 6: Polynomial Root Finding\n",
        "\n",
        "### Instructions\n",
        "---\n",
        "\n",
        "In this week's assignment we will try to find out roots of a polynomial.\n",
        "1. Finding root via binomial method.\n",
        "2. Finding root via Fixed point (Newton method).\n",
        "\n",
        "### `pandas` Dataframe:\n",
        "Before we start we will know a little about `pandas` dataframe. `pandas` is a python library. Dataframes are classes that are used to store complex data. You can initialize one as a python dictionary. Let's take a look. "
      ]
    },
    {
      "cell_type": "code",
      "metadata": {
        "id": "zuedH4KrEu-Q",
        "colab_type": "code",
        "outputId": "bb7dc77d-4f15-417d-d419-557964f0ed48",
        "colab": {
          "base_uri": "https://localhost:8080/",
          "height": 168
        }
      },
      "source": [
        "import pandas as pd\n",
        "\n",
        "x = [0, 1, 2, 3, 4, 5, 6, 7]\n",
        "y = [1.0, 5.2, 3.9, 8.4, 14.6, 12.3, 8.9, 10.2]\n",
        "\n",
        "dictionary = {\n",
        "    \"x\": x,\n",
        "    \"y\": y,\n",
        "}\n",
        "df = pd.DataFrame(dictionary)\n",
        "print(df)"
      ],
      "execution_count": 0,
      "outputs": [
        {
          "output_type": "stream",
          "text": [
            "   x     y\n",
            "0  0   1.0\n",
            "1  1   5.2\n",
            "2  2   3.9\n",
            "3  3   8.4\n",
            "4  4  14.6\n",
            "5  5  12.3\n",
            "6  6   8.9\n",
            "7  7  10.2\n"
          ],
          "name": "stdout"
        }
      ]
    },
    {
      "cell_type": "markdown",
      "metadata": {
        "id": "YYPrSFeOFMnb",
        "colab_type": "text"
      },
      "source": [
        "We can use it to print data in a tabular format. We can even use more `numpy` arrays with it."
      ]
    },
    {
      "cell_type": "code",
      "metadata": {
        "id": "nbMk2iDlFSSe",
        "colab_type": "code",
        "outputId": "4e270bfc-b795-42db-c893-da9ecd7af4b5",
        "colab": {
          "base_uri": "https://localhost:8080/",
          "height": 286
        }
      },
      "source": [
        "import numpy as np\n",
        "\n",
        "x = np.linspace(0, np.pi/2, 15)\n",
        "y = np.sin(x)\n",
        "\n",
        "dictionary = {\n",
        "    \"x\": x,\n",
        "    \"sin(x)\": y,\n",
        "}\n",
        "df = pd.DataFrame(dictionary)\n",
        "print(df)"
      ],
      "execution_count": 0,
      "outputs": [
        {
          "output_type": "stream",
          "text": [
            "           x    sin(x)\n",
            "0   0.000000  0.000000\n",
            "1   0.112200  0.111964\n",
            "2   0.224399  0.222521\n",
            "3   0.336599  0.330279\n",
            "4   0.448799  0.433884\n",
            "5   0.560999  0.532032\n",
            "6   0.673198  0.623490\n",
            "7   0.785398  0.707107\n",
            "8   0.897598  0.781831\n",
            "9   1.009798  0.846724\n",
            "10  1.121997  0.900969\n",
            "11  1.234197  0.943883\n",
            "12  1.346397  0.974928\n",
            "13  1.458597  0.993712\n",
            "14  1.570796  1.000000\n"
          ],
          "name": "stdout"
        }
      ]
    },
    {
      "cell_type": "markdown",
      "metadata": {
        "id": "tduuDLQAGI8l",
        "colab_type": "text"
      },
      "source": [
        "### Root Finding:\n",
        "Let $f(x)$ be a function of $x$. if for some $x=\\alpha, f(x) = f(\\alpha) = 0$, we say $\\alpha$ is a root of function $x$.\n",
        "\n",
        "Let, \n",
        "$$f(x) = x^5 + 2.5x^4 - 2x^3 -6x^2 + x + 2\\tag{6.1}$$\n",
        "\n",
        "The graph of $f(x)$ looks like this."
      ]
    },
    {
      "cell_type": "code",
      "metadata": {
        "id": "b8w1V5RWHPSR",
        "colab_type": "code",
        "outputId": "d9437177-e01e-4ca9-b74e-0678b149854e",
        "colab": {
          "base_uri": "https://localhost:8080/",
          "height": 282
        }
      },
      "source": [
        "from numpy.polynomial import Polynomial\n",
        "import matplotlib.pyplot as plt\n",
        "\n",
        "f = Polynomial([2.0, 1.0, -6.0, -2.0, 2.5, 1.0])\n",
        "x = np.linspace(-2.5, 1.6, 100)\n",
        "y = f(x)\n",
        "dictionary = {\n",
        "    'x': x,\n",
        "    'y': y\n",
        "}\n",
        "plt.axhline(y=0, color='k')\n",
        "plt.plot(x, y)\n",
        "plt.plot(f.roots(), [0.0]*5, 'ro')\n",
        "print(f.roots())"
      ],
      "execution_count": 0,
      "outputs": [
        {
          "output_type": "stream",
          "text": [
            "[-2.         -1.92076271 -0.5819979   0.67242436  1.33033625]\n"
          ],
          "name": "stdout"
        },
        {
          "output_type": "display_data",
          "data": {
            "image/png": "[encoded data removed]",
            "text/plain": [
              "<Figure size 432x288 with 1 Axes>"
            ]
          },
          "metadata": {
            "tags": []
          }
        }
      ]
    },
    {
      "cell_type": "markdown",
      "metadata": {
        "id": "MutHWr2oI9sP",
        "colab_type": "text"
      },
      "source": [
        "Roots are the points where the graph intersects with the $X$-axis.\n",
        "\n",
        "### Bisection\n",
        "\n",
        "One way to find out root's are to use bisection method. Here is the strategy, if $\\alpha$ is a root between and interval $[a, b]$ then graph will cross the $X$-axis at $\\alpha$. So, $sign( f(\\alpha-h) ) = - sign( f(\\alpha+h) )$, for small value of $h$. \n",
        "\n",
        "So, we can work our way up towards the root by taking average of $a$ and $b$, as long as the signs are different.\n",
        "\n",
        "we will start with $a_0$ and $b_0$, such that, $f(a_0) f(b_0) < 0$.\n",
        "Then we iterate as this,\n",
        "\\begin{align}\n",
        "m_k &= \\frac{a_k + b_k}{2} \\\\\n",
        "\\text{if, } f(a_k) f(m_k) < 0, \\text{ then, } a_{k+1} &= a_k \\text{ and } b_{k+1} = m_k\\\\\n",
        "\\text{else, } a_{k+1} &= m_k \\text{ and, } b_{k+1} = b_k\n",
        "\\end{align}\n",
        "\n",
        "We keep iterating until we find the root with sufficient precision. We usually use a formula like this,\n",
        "$$\n",
        "\\frac{|m_{k+1} - m_k|}{|m_{k+1}|} \\leq \\epsilon \\\\  \n",
        "$$\n",
        "Where, $\\epsilon$ is a very small value, like $\\epsilon < 10^{-6}$\n",
        "\n",
        "### A. Complete the code below\n",
        "Complete the code below to iterate and solve for a root of $Eq. 6.1$, between the interval, $[-0.5, 1.3]$."
      ]
    },
    {
      "cell_type": "code",
      "metadata": {
        "id": "rTp0r-WtBUWL",
        "colab_type": "code",
        "outputId": "42086f03-d70e-4435-baca-0a4fd570188d",
        "colab": {
          "base_uri": "https://localhost:8080/",
          "height": 1000
        }
      },
      "source": [
        "import numpy as np\n",
        "import pandas as pd\n",
        "import matplotlib.pyplot as plt\n",
        "from numpy.polynomial import Polynomial\n",
        "\n",
        "f = Polynomial([2.0, 1.0, -6.0, -2.0, 2.5, 1.0])\n",
        "a = -0.5\n",
        "b = 1.3\n",
        "m = (a+b)/2\n",
        "e = 1e-6\n",
        "\n",
        "list_a = []\n",
        "list_b = []\n",
        "list_m = []\n",
        "list_f = []\n",
        "\n",
        "root = 0.0\n",
        "\n",
        "#+----------------------+\n",
        "#| Start of your code   +\n",
        "#+----------------------+\n",
        "import numpy as np\n",
        "import pandas as pd\n",
        "import matplotlib.pyplot as plt\n",
        "from numpy.polynomial import Polynomial\n",
        "\n",
        "f = Polynomial([2.0, 1.0, -6.0, -2.0, 2.5, 1.0])\n",
        "a = -0.5\n",
        "b = 1.3\n",
        "m = (a+b)/2\n",
        "e = 1e-6\n",
        "\n",
        "list_a = []\n",
        "list_b = []\n",
        "list_m = []\n",
        "list_f = []\n",
        "\n",
        "root = 0.0\n",
        "\n",
        "#+----------------------+\n",
        "#| Start of your code   +\n",
        "#+----------------------+\n",
        "while True:\n",
        "    list_a.append(a)\n",
        "    list_b.append(b)\n",
        "    list_m.append(m)\n",
        "    list_f.append(f(m))\n",
        "    \n",
        "    \n",
        "    if(f(a)*f(m)<0):\n",
        "        b=m\n",
        "        m=(a+b)/2\n",
        "        list_a.append(a)\n",
        "        list_m.append(m)\n",
        "        list_b.append(b)\n",
        "     \n",
        "        list_f.append(f(m))\n",
        "    else:\n",
        "        a=m\n",
        "        m=(a+b)/2\n",
        "        \n",
        "        list_a.append(a)\n",
        "        list_b.append(b)\n",
        "        list_m.append(m)\n",
        "        list_f.append(f(a))\n",
        "    \n",
        "\n",
        "    if(abs(list_m[-1]-list_m[-2])/abs(list_m[-1])<=e):\n",
        "        root=m\n",
        "        break\n",
        "    \n",
        "\n",
        "    \n",
        "\n",
        "\n",
        "\n",
        "#+--------------------+\n",
        "#| End of your code   +\n",
        "#+--------------------+\n",
        "\n",
        "xs = np.linspace(-2.5, 1.6, 100)\n",
        "ys = f(xs)\n",
        "\n",
        "plt.axhline(y=0, color='k')\n",
        "plt.plot(xs, ys)\n",
        "plt.plot(root, f(root), 'ro')\n",
        "\n",
        "print(pd.DataFrame({'a':list_a, 'b':list_b, 'm':list_m, 'f(x)':list_f}))"
      ],
      "execution_count": 10,
      "outputs": [
        {
          "output_type": "stream",
          "text": [
            "           a         b         m      f(x)\n",
            "0  -0.500000  1.300000  0.400000  1.386240\n",
            "1   0.400000  1.300000  0.850000  1.386240\n",
            "2   0.400000  1.300000  0.850000 -0.964529\n",
            "3   0.400000  0.850000  0.625000  0.269806\n",
            "4   0.400000  0.850000  0.625000  0.269806\n",
            "5   0.625000  0.850000  0.737500  0.269806\n",
            "6   0.625000  0.850000  0.737500 -0.370437\n",
            "7   0.625000  0.737500  0.681250 -0.050487\n",
            "8   0.625000  0.737500  0.681250 -0.050487\n",
            "9   0.625000  0.681250  0.653125  0.110236\n",
            "10  0.625000  0.681250  0.653125  0.110236\n",
            "11  0.653125  0.681250  0.667188  0.110236\n",
            "12  0.653125  0.681250  0.667188  0.029945\n",
            "13  0.667188  0.681250  0.674219  0.029945\n",
            "14  0.667188  0.681250  0.674219 -0.010263\n",
            "15  0.667188  0.674219  0.670703  0.009844\n",
            "16  0.667188  0.674219  0.670703  0.009844\n",
            "17  0.670703  0.674219  0.672461  0.009844\n",
            "18  0.670703  0.674219  0.672461 -0.000209\n",
            "19  0.670703  0.672461  0.671582  0.004817\n",
            "20  0.670703  0.672461  0.671582  0.004817\n",
            "21  0.671582  0.672461  0.672021  0.004817\n",
            "22  0.671582  0.672461  0.672021  0.002304\n",
            "23  0.672021  0.672461  0.672241  0.002304\n",
            "24  0.672021  0.672461  0.672241  0.001048\n",
            "25  0.672241  0.672461  0.672351  0.001048\n",
            "26  0.672241  0.672461  0.672351  0.000419\n",
            "27  0.672351  0.672461  0.672406  0.000419\n",
            "28  0.672351  0.672461  0.672406  0.000105\n",
            "29  0.672406  0.672461  0.672433  0.000105\n",
            "30  0.672406  0.672461  0.672433 -0.000052\n",
            "31  0.672406  0.672433  0.672420  0.000026\n",
            "32  0.672406  0.672433  0.672420  0.000026\n",
            "33  0.672420  0.672433  0.672427  0.000026\n",
            "34  0.672420  0.672433  0.672427 -0.000013\n",
            "35  0.672420  0.672427  0.672423  0.000007\n",
            "36  0.672420  0.672427  0.672423  0.000007\n",
            "37  0.672423  0.672427  0.672425  0.000007\n",
            "38  0.672423  0.672427  0.672425 -0.000003\n",
            "39  0.672423  0.672425  0.672424  0.000002\n",
            "40  0.672423  0.672425  0.672424  0.000002\n",
            "41  0.672424  0.672425  0.672424  0.000002\n"
          ],
          "name": "stdout"
        },
        {
          "output_type": "display_data",
          "data": {
            "image/png": "[encoded data removed]",
            "text/plain": [
              "<Figure size 432x288 with 1 Axes>"
            ]
          },
          "metadata": {
            "tags": []
          }
        }
      ]
    },
    {
      "cell_type": "markdown",
      "metadata": {
        "id": "4tF6K5VpKJFY",
        "colab_type": "text"
      },
      "source": [
        "### Fixed point iteration\n",
        "\n",
        "#### Fixed point\n",
        "A number $\\xi$ is called a **fixed point** to function $g(x)$ if $g(\\xi) = \\xi$. Using fixed points are a nice strategy to find roots of an equation. In this method if we are trying to find a root of $f(x) = 0$, we try to write the function in the form, $x = g(x)$. That is,\n",
        "$$\n",
        "f(x) = x - g(x) = 0\n",
        "$$\n",
        "\n",
        "So, if $\\xi$ is a fixed point of $g(x)$ it would also be a root of $f(x)=0$, because,\n",
        "$$\n",
        "f(\\xi) = \\xi - g(\\xi) = \\xi - \\xi = 0\n",
        "$$\n",
        "\n",
        "We can find a suitable $g(x)$ in any number of ways. Not all of them would converge, whereas, Some would converge very fast. For example, consider $Eq. 6.1$.\n",
        "\n",
        "\\begin{align}\n",
        "&         &    f(x) &=x^5 + 2.5x^4 - 2x^3 -6x^2 + x + 2 \\\\\n",
        "&\\implies &x - g(x) &=x^5 + 2.5x^4 - 2x^3 -6x^2 + x + 2 \\\\\n",
        "&\\implies &    g(x) &=-x^5 - 2.5x^4 + 2x^3 + 6x^2 - 2 \\tag{6.2}\\\\\n",
        "\\end{align}\n",
        "\n",
        "again, \n",
        "$$\n",
        "f(x) = x^5 + 2.5x^4 - 2x^3 -6x^2 + x + 2 = 0\\\\\n",
        "$$\n",
        "\\begin{align}\n",
        "&\\implies &6x^2 &= x^5 + 2.5x^4 - 2x^3 + x + 2 \\\\\n",
        "&\\implies &x^2  &= \\frac{1}{6}(x^5 + 2.5x^4 - 2x^3 + x + 2)\\\\\n",
        "&\\implies &x    &= \\sqrt{\\frac{1}{6}(x^5 + 2.5x^4 - 2x^3 + x + 2)}\\\\\n",
        "&\\implies &g(x) &= \\sqrt{\\frac{1}{6}(x^5 + 2.5x^4 - 2x^3 + x + 2)}\\tag{6.3}\\\\\n",
        "\\end{align}\n",
        "\n",
        "Similarly,\n",
        "\\begin{align}\n",
        "&         &2.5x^4 &= -x^5 + 2x^3 + 6x^2 - x - 2 \\\\\n",
        "&\\implies &x^4  &= \\frac{1}{2.5}(-x^5 + 2x^3 + 6x^2 - x - 2)\\\\\n",
        "&\\implies &x    &= \\sqrt[\\leftroot{-2}\\uproot{2}4]{\\frac{1}{2.5}(-x^5 + 2x^3 + 6x^2 - x - 2)}\\\\\n",
        "&\\implies &g(x) &= \\sqrt[\\leftroot{-2}\\uproot{2}4]{\\frac{1}{2.5}(-x^5 + 2x^3 + 6x^2 - x - 2)}\\tag{6.4}\\\\\n",
        "\\end{align}\n",
        "\n",
        "### B. Complete the code below\n",
        "For this example we will use a couple of $g(x)$ function to find out which one converges faster."
      ]
    },
    {
      "cell_type": "code",
      "metadata": {
        "id": "prydlxlrKIRA",
        "colab_type": "code",
        "outputId": "e4d2f680-f842-4dd3-da14-19464b5424b2",
        "colab": {
          "base_uri": "https://localhost:8080/",
          "height": 659
        }
      },
      "source": [
        "import numpy as np\n",
        "import pandas as pd\n",
        "import matplotlib.pyplot as plt\n",
        "from numpy.polynomial import Polynomial\n",
        "\n",
        "f = Polynomial([2.0, 1.0, -6.0, -2.0, 2.5, 1.0])\n",
        "g1 = Polynomial([-2.0, 0.0, 6.0, 2.0, -2.5, -1.0])\n",
        "\n",
        "def g2(x):\n",
        "  p = Polynomial([2.0, 1.0, 0.0, -2.0, 2.5, 1.0])\n",
        "  return np.sqrt(p(x)/6)\n",
        "\n",
        "def g3(x):\n",
        "  p = Polynomial([-2.0, -1.0, 6.0, 2.0, 0.0, -1.0])\n",
        "  return np.power(p(x)/2.5, 1.0/4.0)\n",
        "\n",
        "a1 = 0.8\n",
        "g1_a = []\n",
        "\n",
        "a2 = 0.8\n",
        "g2_a = []\n",
        "\n",
        "a3 = 0.8\n",
        "g3_a = []\n",
        "\n",
        "#+----------------------+\n",
        "#| Start of your code   +\n",
        "#+----------------------+\n",
        "\n",
        "\n",
        "for i in range(20):\n",
        "  a1=g1(a1)\n",
        "  g1_a.append(a1)\n",
        "  a2=g2(a2)\n",
        "  g2_a.append(a2)\n",
        "  a3=g3(a3)\n",
        "  g3_a.append(a3)\n",
        "  \n",
        "\n",
        "\n",
        "\n",
        "\n",
        "\n",
        "#+--------------------+\n",
        "#| End of your code   +\n",
        "#+--------------------+\n",
        "\n",
        "xs = np.linspace(-2.5, 1.6, 100)\n",
        "ys = f(x)\n",
        "dictionary = {\n",
        "    'x': xs,\n",
        "    'y': ys\n",
        "}\n",
        "plt.axhline(y=0, color='k')\n",
        "plt.plot(xs, f(xs), label='f(x)')\n",
        "plt.plot(xs, g1(xs), label='g1(x)')\n",
        "plt.plot(xs, g2(xs), label='g2(x)')\n",
        "plt.plot(xs, g3(xs), label='g3(x)')\n",
        "plt.legend()\n",
        "if len(g1_a) > 0:\n",
        "  root = np.array([g1_a[len(g1_a)-1], g2_a[len(g2_a)-1], g3_a[len(g3_a)-1]])\n",
        "  plt.plot(root, f(root), 'ro')\n",
        "\n",
        "print(pd.DataFrame({'g1(x)':g1_a, 'g2(x)':g2_a, 'g3(x))':g3_a,}))"
      ],
      "execution_count": 13,
      "outputs": [
        {
          "output_type": "stream",
          "text": [
            "       g1(x)     g2(x)    g3(x))\n",
            "0   1.512320  0.721997  0.912898\n",
            "1  -2.347605  0.688573  1.044444\n",
            "2   0.562201  0.677301  1.160638\n",
            "3  -0.054108  0.673860  1.241682\n",
            "4  -1.982772  0.672844  1.288278\n",
            "5  -1.995936  0.672547  1.311548\n",
            "6  -1.999770  0.672460  1.322205\n",
            "7  -1.999999  0.672435  1.326870\n",
            "8  -2.000000  0.672427  1.328868\n",
            "9  -2.000000  0.672425  1.329716\n",
            "10 -2.000000  0.672425  1.330075\n",
            "11 -2.000000  0.672424  1.330226\n",
            "12 -2.000000  0.672424  1.330290\n",
            "13 -2.000000  0.672424  1.330317\n",
            "14 -2.000000  0.672424  1.330328\n",
            "15 -2.000000  0.672424  1.330333\n",
            "16 -2.000000  0.672424  1.330335\n",
            "17 -2.000000  0.672424  1.330336\n",
            "18 -2.000000  0.672424  1.330336\n",
            "19 -2.000000  0.672424  1.330336\n"
          ],
          "name": "stdout"
        },
        {
          "output_type": "stream",
          "text": [
            "/usr/local/lib/python3.6/dist-packages/ipykernel_launcher.py:15: RuntimeWarning: invalid value encountered in power\n",
            "  from ipykernel import kernelapp as app\n"
          ],
          "name": "stderr"
        },
        {
          "output_type": "display_data",
          "data": {
            "image/png": "[encoded data removed]",
            "text/plain": [
              "<Figure size 432x288 with 1 Axes>"
            ]
          },
          "metadata": {
            "tags": []
          }
        }
      ]
    }
  ]
}